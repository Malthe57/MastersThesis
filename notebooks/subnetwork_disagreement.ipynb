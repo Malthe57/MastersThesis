{
 "cells": [
  {
   "cell_type": "code",
   "execution_count": 190,
   "metadata": {},
   "outputs": [],
   "source": [
    "import numpy as np\n",
    "import torch\n",
    "import matplotlib.pyplot as plt"
   ]
  },
  {
   "cell_type": "code",
   "execution_count": 191,
   "metadata": {},
   "outputs": [
    {
     "name": "stdout",
     "output_type": "stream",
     "text": [
      "['predictions', 'confidences', 'full_confidences', 'correct_preds', 'targets_matrix', 'brier_score', 'NLL']\n"
     ]
    }
   ],
   "source": [
    "path = r\"C:\\Users\\Yucheng\\Documents\\Thesis\\MastersThesis\\reports\\Logs\\C_NaiveWide\\CIFAR10\\C_NaiveWide.npz\"\n",
    "NPZ = np.load(path) \n",
    "print(NPZ.files)"
   ]
  },
  {
   "cell_type": "code",
   "execution_count": 192,
   "metadata": {},
   "outputs": [
    {
     "data": {
      "text/plain": [
       "(5, 10000, 10, 4)"
      ]
     },
     "execution_count": 192,
     "metadata": {},
     "output_type": "execute_result"
    }
   ],
   "source": [
    "NPZ['full_confidences'].shape"
   ]
  },
  {
   "cell_type": "code",
   "execution_count": 205,
   "metadata": {},
   "outputs": [],
   "source": [
    "def compute_disagreement(subnetwork_predictions):\n",
    "    n_samples = subnetwork_predictions.shape[0]\n",
    "    n_subnetworks = subnetwork_predictions.shape[1]\n",
    "\n",
    "    # Compute the disagreement between all pairs of subnetworks\n",
    "    disagreement_matrix = np.zeros((n_subnetworks, n_subnetworks))\n",
    "    for i in range(n_subnetworks):\n",
    "        for j in range(n_subnetworks):\n",
    "            if i != j:\n",
    "                disagreement_matrix[i, j] = (subnetwork_predictions[:, i] != subnetwork_predictions[:, j]).float().mean().item()\n",
    "    \n",
    "    disagreement = 1/(n_subnetworks * (n_subnetworks -1))*disagreement_matrix.sum()\n",
    "\n",
    "    return disagreement\n",
    "\n",
    "def compute_KL_divergence(checkpoint):\n",
    "    n_samples = checkpoint.shape[0]\n",
    "    n_subnetworks = checkpoint.shape[2]\n",
    "\n",
    "    # Compute the KL divergence between all pairs of subnetworks\n",
    "    KL_divergence_matrix = np.zeros((n_subnetworks, n_subnetworks))\n",
    "    for i in range(n_subnetworks):\n",
    "        for j in range(n_subnetworks):\n",
    "            if i != j:\n",
    "                KL_divergence_matrix[i, j] = torch.nn.functional.kl_div(checkpoint[:,:, i], checkpoint[:, :, j], reduction='mean', log_target=True).item()\n",
    "    \n",
    "    average_divergence = 1/(n_subnetworks * (n_subnetworks -1)) * KL_divergence_matrix.sum()\n",
    "\n",
    "    return average_divergence\n"
   ]
  },
  {
   "cell_type": "code",
   "execution_count": 206,
   "metadata": {},
   "outputs": [],
   "source": [
    "def make_barplot(checkpoint, subnetworks):\n",
    "\n",
    "    # Calculate the average of all log probabilities\n",
    "    avg_log_probs = torch.exp(checkpoint).mean(dim=0).cpu().detach().numpy()\n",
    "    colours = ['r','g','b','m','c']\n",
    "\n",
    "    fig, ax = plt.subplots()\n",
    "\n",
    "    X = np.arange(len(avg_log_probs))\n",
    "\n",
    "    # Repeat the process three times\n",
    "\n",
    "    # Plot the bar plot with semitransparent bars\n",
    "\n",
    "    for i in range(subnetworks):\n",
    "        ax.bar(X + 0.15*i - (subnetworks//2)*0.15, avg_log_probs[:,i], alpha=1, color=colours[i], label=f'Subnetwork {i+1}', width=0.15)\n",
    "    \n",
    "    # Add the legend\n",
    "    plt.legend()\n",
    "    plt.xlabel(\"Classes\")\n",
    "    plt.xticks(X)\n",
    "    plt.ylabel(\"Confidence\")\n",
    "\n",
    "    # Show the plot\n",
    "    plt.show()"
   ]
  },
  {
   "cell_type": "markdown",
   "metadata": {},
   "source": [
    "# Naive"
   ]
  },
  {
   "cell_type": "code",
   "execution_count": 207,
   "metadata": {},
   "outputs": [],
   "source": [
    "checkpoint_path = r\"C:\\Users\\Yucheng\\Documents\\Thesis\\MastersThesis\\models\\classification\\checkpoints\\C_NaiveWide\\CIFAR10\\M3\\C_NaiveWide_28_10_3_members_rep1_checkpoints.pt\"\n",
    "checkpoint = torch.load(checkpoint_path)    "
   ]
  },
  {
   "cell_type": "code",
   "execution_count": 208,
   "metadata": {},
   "outputs": [],
   "source": [
    "checkpoint = checkpoint[-1]"
   ]
  },
  {
   "cell_type": "code",
   "execution_count": 209,
   "metadata": {},
   "outputs": [
    {
     "data": {
      "text/plain": [
       "torch.Size([256, 10, 3])"
      ]
     },
     "execution_count": 209,
     "metadata": {},
     "output_type": "execute_result"
    }
   ],
   "source": [
    "checkpoint.shape"
   ]
  },
  {
   "cell_type": "code",
   "execution_count": 210,
   "metadata": {},
   "outputs": [
    {
     "data": {
      "text/plain": [
       "0.0"
      ]
     },
     "execution_count": 210,
     "metadata": {},
     "output_type": "execute_result"
    }
   ],
   "source": [
    "subnetwork_predictions = checkpoint.argmax(dim=1)\n",
    "compute_disagreement(subnetwork_predictions)"
   ]
  },
  {
   "cell_type": "code",
   "execution_count": 211,
   "metadata": {},
   "outputs": [
    {
     "data": {
      "text/plain": [
       "2.142260176659268e-08"
      ]
     },
     "execution_count": 211,
     "metadata": {},
     "output_type": "execute_result"
    }
   ],
   "source": [
    "compute_KL_divergence(checkpoint)"
   ]
  },
  {
   "cell_type": "code",
   "execution_count": 212,
   "metadata": {},
   "outputs": [
    {
     "data": {
      "image/png": "[encoded data removed]",
      "text/plain": [
       "<Figure size 640x480 with 1 Axes>"
      ]
     },
     "metadata": {},
     "output_type": "display_data"
    }
   ],
   "source": [
    "make_barplot(checkpoint, subnetworks=3)"
   ]
  },
  {
   "cell_type": "markdown",
   "metadata": {},
   "source": [
    "# MIMO"
   ]
  },
  {
   "cell_type": "code",
   "execution_count": 213,
   "metadata": {},
   "outputs": [],
   "source": [
    "checkpoint_path = r\"C:\\Users\\Yucheng\\Documents\\Thesis\\MastersThesis\\models\\classification\\checkpoints\\C_MIMOWide\\CIFAR10\\M3\\C_MIMOWide_28_10_3_members_rep1_checkpoints.pt\"\n",
    "checkpoint = torch.load(checkpoint_path)    "
   ]
  },
  {
   "cell_type": "code",
   "execution_count": 214,
   "metadata": {},
   "outputs": [],
   "source": [
    "checkpoint = checkpoint[-1]"
   ]
  },
  {
   "cell_type": "code",
   "execution_count": 215,
   "metadata": {},
   "outputs": [
    {
     "data": {
      "text/plain": [
       "0.12369791666666666"
      ]
     },
     "execution_count": 215,
     "metadata": {},
     "output_type": "execute_result"
    }
   ],
   "source": [
    "subnetwork_predictions = checkpoint.argmax(dim=1)\n",
    "compute_disagreement(subnetwork_predictions)"
   ]
  },
  {
   "cell_type": "code",
   "execution_count": 216,
   "metadata": {},
   "outputs": [
    {
     "data": {
      "text/plain": [
       "0.12369791666666667"
      ]
     },
     "execution_count": 216,
     "metadata": {},
     "output_type": "execute_result"
    }
   ],
   "source": [
    "np.mean([0.1328125, 0.12890625,0.109375]) "
   ]
  },
  {
   "cell_type": "code",
   "execution_count": 217,
   "metadata": {},
   "outputs": [
    {
     "data": {
      "text/plain": [
       "0.0426648153613011"
      ]
     },
     "execution_count": 217,
     "metadata": {},
     "output_type": "execute_result"
    }
   ],
   "source": [
    "compute_KL_divergence(checkpoint)"
   ]
  },
  {
   "cell_type": "code",
   "execution_count": 218,
   "metadata": {},
   "outputs": [
    {
     "data": {
      "image/png": "[encoded data removed]",
      "text/plain": [
       "<Figure size 640x480 with 1 Axes>"
      ]
     },
     "metadata": {},
     "output_type": "display_data"
    }
   ],
   "source": [
    "make_barplot(checkpoint, subnetworks=3)"
   ]
  },
  {
   "cell_type": "markdown",
   "metadata": {},
   "source": [
    "# MIMBO"
   ]
  },
  {
   "cell_type": "code",
   "execution_count": 219,
   "metadata": {},
   "outputs": [],
   "source": [
    "checkpoint_path = r\"C:\\Users\\Yucheng\\Documents\\Thesis\\MastersThesis\\models\\classification\\checkpoints\\C_MIMBOWide\\CIFAR10\\M3\\C_MIMBOWide_28_10_3_members_rep1_checkpoints.pt\"\n",
    "checkpoint = torch.load(checkpoint_path)  "
   ]
  },
  {
   "cell_type": "code",
   "execution_count": 220,
   "metadata": {},
   "outputs": [],
   "source": [
    "checkpoint = checkpoint[-1]\n"
   ]
  },
  {
   "cell_type": "code",
   "execution_count": 221,
   "metadata": {},
   "outputs": [
    {
     "data": {
      "text/plain": [
       "0.14583333333333331"
      ]
     },
     "execution_count": 221,
     "metadata": {},
     "output_type": "execute_result"
    }
   ],
   "source": [
    "subnetwork_predictions = checkpoint.argmax(dim=1)\n",
    "compute_disagreement(subnetwork_predictions)"
   ]
  },
  {
   "cell_type": "code",
   "execution_count": 222,
   "metadata": {},
   "outputs": [
    {
     "data": {
      "text/plain": [
       "0.04147887912889321"
      ]
     },
     "execution_count": 222,
     "metadata": {},
     "output_type": "execute_result"
    }
   ],
   "source": [
    "compute_KL_divergence(checkpoint)"
   ]
  },
  {
   "cell_type": "code",
   "execution_count": 223,
   "metadata": {},
   "outputs": [
    {
     "data": {
      "image/png": "[encoded data removed]",
      "text/plain": [
       "<Figure size 640x480 with 1 Axes>"
      ]
     },
     "metadata": {},
     "output_type": "display_data"
    }
   ],
   "source": [
    "make_barplot(checkpoint, subnetworks=3)\n"
   ]
  }
 ],
 "metadata": {
  "kernelspec": {
   "display_name": "masterthesis",
   "language": "python",
   "name": "python3"
  },
  "language_info": {
   "codemirror_mode": {
    "name": "ipython",
    "version": 3
   },
   "file_extension": ".py",
   "mimetype": "text/x-python",
   "name": "python",
   "nbconvert_exporter": "python",
   "pygments_lexer": "ipython3",
   "version": "3.11.7"
  }
 },
 "nbformat": 4,
 "nbformat_minor": 2
}
