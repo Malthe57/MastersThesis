{
 "cells": [
  {
   "cell_type": "code",
   "execution_count": 5,
   "metadata": {},
   "outputs": [],
   "source": [
    "import numpy as np\n",
    "mus = np.array([[1.0, 2.0, 1.3],[2.0, -1.0, 0.1]])\n",
    "sigmas = np.array([[0.3, 0.5, 1.0], [0.7, 1.5, 2.0]])\n",
    "\n",
    "# mus = np.array([[ 3.4, 2.1, -3.0],[2.4, 1.3, -1.0]])\n",
    "# sigmas = np.array([[0.4, 0.9, 2.0],[0.1, 3.0, 2.1]])\n",
    "\n",
    "#2-link\n",
    "mus_1 = np.mean(mus, axis=1)\n",
    "sigmas_1 = np.mean((np.power(mus,2)+sigmas),axis=1)-np.power(mus_1,2)\n",
    "\n",
    "mus_2 = np.mean(mus_1)\n",
    "sigmas_2 = np.mean((np.power(mus_1,2)+sigmas_1),axis=0)-np.power(mus_2,2)\n",
    "#1-link\n",
    "mus_x = np.mean(mus.flatten())\n",
    "sigmas_x = np.mean((np.power(mus.flatten(),2)+sigmas.flatten()),axis=0)-np.power(mus_x,2)"
   ]
  },
  {
   "cell_type": "code",
   "execution_count": 6,
   "metadata": {},
   "outputs": [
    {
     "name": "stdout",
     "output_type": "stream",
     "text": [
      "Means:  0.9 0.8999999999999999\n",
      "Variances:  2.14 2.1400000000000006\n"
     ]
    }
   ],
   "source": [
    "print(\"Means: \", mus_2, mus_x)\n",
    "print(\"Variances: \", sigmas_2, sigmas_x)"
   ]
  },
  {
   "cell_type": "code",
   "execution_count": 29,
   "metadata": {},
   "outputs": [
    {
     "name": "stdout",
     "output_type": "stream",
     "text": [
      "0.9500000000000002\n"
     ]
    }
   ],
   "source": [
    "print(np.mean(np.power(mus.flatten(),2)-sigmas.flatten()))"
   ]
  },
  {
   "cell_type": "code",
   "execution_count": null,
   "metadata": {},
   "outputs": [],
   "source": []
  }
 ],
 "metadata": {
  "kernelspec": {
   "display_name": "mastersthesis",
   "language": "python",
   "name": "python3"
  },
  "language_info": {
   "codemirror_mode": {
    "name": "ipython",
    "version": 3
   },
   "file_extension": ".py",
   "mimetype": "text/x-python",
   "name": "python",
   "nbconvert_exporter": "python",
   "pygments_lexer": "ipython3",
   "version": "3.11.7"
  }
 },
 "nbformat": 4,
 "nbformat_minor": 2
}
